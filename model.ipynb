{
  "nbformat": 4,
  "nbformat_minor": 0,
  "metadata": {
    "colab": {
      "provenance": [],
      "authorship_tag": "ABX9TyP2QXxr4qxKoruIW0h96BPp",
      "include_colab_link": true
    },
    "kernelspec": {
      "name": "python3",
      "display_name": "Python 3"
    },
    "language_info": {
      "name": "python"
    },
    "accelerator": "GPU",
    "gpuClass": "standard"
  },
  "cells": [
    {
      "cell_type": "markdown",
      "metadata": {
        "id": "view-in-github",
        "colab_type": "text"
      },
      "source": [
        "<a href=\"https://colab.research.google.com/github/nicole-hjlin/mpala-tree-mapping/blob/pct-transformer/model.ipynb\" target=\"_parent\"><img src=\"https://colab.research.google.com/assets/colab-badge.svg\" alt=\"Open In Colab\"/></a>"
      ]
    },
    {
      "cell_type": "markdown",
      "source": [
        "# PCT (Point Cloud Transformer) Model Setup"
      ],
      "metadata": {
        "id": "JzGQGdsGE78g"
      }
    },
    {
      "cell_type": "code",
      "execution_count": null,
      "metadata": {
        "colab": {
          "base_uri": "https://localhost:8080/"
        },
        "id": "xYuqX5ZEBckq",
        "outputId": "43b8fd6a-9b85-4b62-eb7a-041cb63f20e8"
      },
      "outputs": [
        {
          "output_type": "stream",
          "name": "stdout",
          "text": [
            "Cloning into 'PCT_Pytorch'...\n",
            "remote: Enumerating objects: 60, done.\u001b[K\n",
            "remote: Counting objects: 100% (13/13), done.\u001b[K\n",
            "remote: Compressing objects: 100% (12/12), done.\u001b[K\n",
            "remote: Total 60 (delta 5), reused 1 (delta 1), pack-reused 47\u001b[K\n",
            "Unpacking objects: 100% (60/60), done.\n"
          ]
        }
      ],
      "source": [
        "! git clone https://github.com/Strawberry-Eat-Mango/PCT_Pytorch.git"
      ]
    },
    {
      "cell_type": "code",
      "source": [
        "import torch\n",
        "import h5py\n",
        "import sklearn"
      ],
      "metadata": {
        "id": "v2FGAWOHCt8R"
      },
      "execution_count": null,
      "outputs": []
    },
    {
      "cell_type": "code",
      "source": [
        "cd PCT_Pytorch"
      ],
      "metadata": {
        "colab": {
          "base_uri": "https://localhost:8080/"
        },
        "id": "byMoWkFfDjWy",
        "outputId": "5d0fe564-f77b-492c-d728-c1380dbce890"
      },
      "execution_count": null,
      "outputs": [
        {
          "output_type": "stream",
          "name": "stdout",
          "text": [
            "/content/PCT_Pytorch\n"
          ]
        }
      ]
    },
    {
      "cell_type": "code",
      "source": [
        "!pip install pointnet2_ops_lib/."
      ],
      "metadata": {
        "colab": {
          "base_uri": "https://localhost:8080/"
        },
        "id": "6vXu5MdIC-C0",
        "outputId": "747312b7-0121-4de8-e042-53f544a72a21"
      },
      "execution_count": null,
      "outputs": [
        {
          "output_type": "stream",
          "name": "stdout",
          "text": [
            "Looking in indexes: https://pypi.org/simple, https://us-python.pkg.dev/colab-wheels/public/simple/\n",
            "Processing ./pointnet2_ops_lib\n",
            "\u001b[33m  DEPRECATION: A future pip version will change local packages to be built in-place without first copying to a temporary directory. We recommend you use --use-feature=in-tree-build to test your packages with this new behavior before it becomes the default.\n",
            "   pip 21.3 will remove support for this functionality. You can find discussion regarding this at https://github.com/pypa/pip/issues/7555.\u001b[0m\n",
            "Requirement already satisfied: torch>=1.4 in /usr/local/lib/python3.7/dist-packages (from pointnet2-ops==3.0.0) (1.12.1+cu113)\n",
            "Requirement already satisfied: typing-extensions in /usr/local/lib/python3.7/dist-packages (from torch>=1.4->pointnet2-ops==3.0.0) (4.1.1)\n",
            "Building wheels for collected packages: pointnet2-ops\n",
            "  Building wheel for pointnet2-ops (setup.py) ... \u001b[?25l\u001b[?25hdone\n",
            "  Created wheel for pointnet2-ops: filename=pointnet2_ops-3.0.0-cp37-cp37m-linux_x86_64.whl size=5869318 sha256=8212fa94286135d3f53802b0baac9f147905d0a410ecec2bbe85d594ef8881a1\n",
            "  Stored in directory: /tmp/pip-ephem-wheel-cache-6r4u0ksw/wheels/b8/05/ec/a4d87b71d10269c3a1c9a31becde74834dac1ffdaa6b4b1d99\n",
            "Successfully built pointnet2-ops\n",
            "Installing collected packages: pointnet2-ops\n",
            "Successfully installed pointnet2-ops-3.0.0\n"
          ]
        }
      ]
    },
    {
      "cell_type": "code",
      "source": [
        "!nvcc --version"
      ],
      "metadata": {
        "colab": {
          "base_uri": "https://localhost:8080/"
        },
        "id": "33UGbE3B5yjL",
        "outputId": "6b150377-e8db-4356-8314-0d9e1f1e3f48"
      },
      "execution_count": null,
      "outputs": [
        {
          "output_type": "stream",
          "name": "stdout",
          "text": [
            "nvcc: NVIDIA (R) Cuda compiler driver\n",
            "Copyright (c) 2005-2021 NVIDIA Corporation\n",
            "Built on Sun_Feb_14_21:12:58_PST_2021\n",
            "Cuda compilation tools, release 11.2, V11.2.152\n",
            "Build cuda_11.2.r11.2/compiler.29618528_0\n"
          ]
        }
      ]
    },
    {
      "cell_type": "code",
      "source": [
        "ls"
      ],
      "metadata": {
        "colab": {
          "base_uri": "https://localhost:8080/"
        },
        "id": "hxMKozlBD1BO",
        "outputId": "b09e39c3-4fcd-40c6-fb8b-f25e283512f4"
      },
      "execution_count": null,
      "outputs": [
        {
          "output_type": "stream",
          "name": "stdout",
          "text": [
            "\u001b[0m\u001b[01;34mcheckpoints\u001b[0m/  LICENSE  model_new.py  \u001b[01;34mpointnet2_ops_lib\u001b[0m/  test.sh   util.py\n",
            "data.py       main.py  model.py      README.md           train.sh\n"
          ]
        }
      ]
    },
    {
      "cell_type": "code",
      "source": [
        "! python main.py --exp_name=test --num_points=1024 --use_sgd=True --eval=True --model_path=checkpoints/best/models/model.t7 --test_batch_size 8"
      ],
      "metadata": {
        "colab": {
          "base_uri": "https://localhost:8080/"
        },
        "id": "yd6ZmmK3DcmT",
        "outputId": "b9afa0d7-7e81-4361-a3f6-1c9ad13683bf"
      },
      "execution_count": null,
      "outputs": [
        {
          "output_type": "stream",
          "name": "stdout",
          "text": [
            "Namespace(batch_size=32, dataset='modelnet40', dropout=0.5, epochs=250, eval=True, exp_name='test', lr=0.0001, model_path='checkpoints/best/models/model.t7', momentum=0.9, no_cuda=False, num_points=1024, seed=1, test_batch_size=8, use_sgd=True)\n",
            "Using GPU : 0 from 1 devices\n",
            "Pre-data:  torch.Size([8, 1024, 3])\n",
            "Data size:  torch.Size([8, 3, 1024]) torch.Size([8])\n"
          ]
        }
      ]
    }
  ]
}
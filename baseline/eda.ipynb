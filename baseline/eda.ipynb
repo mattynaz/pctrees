{
 "cells": [
  {
   "cell_type": "markdown",
   "metadata": {},
   "source": [
    "# Count points in each tree"
   ]
  },
  {
   "cell_type": "code",
   "execution_count": 38,
   "metadata": {},
   "outputs": [],
   "source": [
    "import pandas as pd\n",
    "from glob import glob\n",
    "import laspy\n",
    "import re\n",
    "\n",
    "data = {\n",
    "    'tree_id': [],\n",
    "    'num_total': [],\n",
    "    'num_class1': [],\n",
    "    'num_class2': [],\n",
    "    'num_class6': [],\n",
    "    'num_class10': [],\n",
    "}\n",
    "\n",
    "for f in glob('../data/MpalaForestGEO_LasClippedtoTreePolygons/*.las')[10:]:\n",
    "    matches = re.findall(r'treeID_(\\d+)', f)\n",
    "    assert len(matches) == 1\n",
    "    id = matches[0]\n",
    "    las = laspy.read(f)\n",
    "    data['tree_id'].append(id)\n",
    "    data['num_total'].append(len(las.classification))\n",
    "    data['num_class1'].append((las.classification == 1).sum())\n",
    "    data['num_class2'].append((las.classification == 2).sum())\n",
    "    data['num_class6'].append((las.classification == 6).sum())\n",
    "    data['num_class10'].append((las.classification == 10).sum())\n",
    "\n",
    "data = pd.DataFrame.from_dict(data)\n",
    "data.to_pickle('num_points.pkl')"
   ]
  }
 ],
 "metadata": {
  "kernelspec": {
   "display_name": "Python 3.10.6 ('venv': venv)",
   "language": "python",
   "name": "python3"
  },
  "language_info": {
   "codemirror_mode": {
    "name": "ipython",
    "version": 3
   },
   "file_extension": ".py",
   "mimetype": "text/x-python",
   "name": "python",
   "nbconvert_exporter": "python",
   "pygments_lexer": "ipython3",
   "version": "3.10.6"
  },
  "orig_nbformat": 4,
  "vscode": {
   "interpreter": {
    "hash": "7cf932f233a1eb25445184ced19e34488037ad46dd79dc96bb4513bd804356ea"
   }
  }
 },
 "nbformat": 4,
 "nbformat_minor": 2
}

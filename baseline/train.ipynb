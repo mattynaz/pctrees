{
 "cells": [
  {
   "cell_type": "code",
   "execution_count": 1,
   "metadata": {},
   "outputs": [
    {
     "name": "stdout",
     "output_type": "stream",
     "text": [
      "torch.Size([3, 6, 3, 244, 244])\n",
      "torch.Size([3, 4])\n",
      "torch.Size([3, 6, 3, 244, 244])\n"
     ]
    }
   ],
   "source": [
    "from model import SimpleView\n",
    "from dataset import MpalaTreeLiDAR\n",
    "from torch.utils.data import DataLoader\n",
    "from torchvision import transforms\n",
    "from torch import optim, nn\n",
    "import d_util\n",
    "\n",
    "training_data = MpalaTreeLiDAR(\n",
    "    data_path='../data/MpalaForestGEO_LasClippedtoTreePolygons',\n",
    "    ids=range(1, 30),\n",
    "    transform=transforms.Compose([\n",
    "        d_util.ToPointCloud(),\n",
    "        d_util.ProjectPointCloud(),\n",
    "        d_util.ExpandChannels(channels=3),\n",
    "    ]),\n",
    ")\n",
    "\n",
    "trainloader = DataLoader(training_data, batch_size=3, shuffle=True)\n",
    "\n",
    "\n",
    "simpleview = SimpleView(num_views=6, num_classes=4)\n",
    "criterion = nn.CrossEntropyLoss()\n",
    "optimizer = optim.SGD(simpleview.parameters(), lr=0.001, momentum=0.9)\n",
    "epochs = 100\n",
    "\n",
    "for _ in range(epochs):\n",
    "    for x, y in trainloader:\n",
    "        optimizer.zero_grad()\n",
    "\n",
    "        outputs = simpleview(x)\n",
    "        loss = criterion(outputs, y)\n",
    "        loss.backward()\n",
    "        optimizer.step()\n",
    "\n",
    "        print(x.shape)\n",
    "        print(simpleview(x).shape)\n",
    "        break\n",
    "    # when you ask for a 1 sentence pitch, it's you saying you don't want to understand the problem, but digest it for entertainment like its a tiktok\n",
    "\n",
    "# epochs = 100\n",
    "# for epoch in range(epochs):  # loop over the dataset multiple times\n",
    "#     running_loss = 0.0\n",
    "#     for i, data in enumerate(trainloader):\n",
    "#         # get the inputs; data is a list of [inputs, labels]\n",
    "#         inputs, labels = data\n",
    "#         # zero the parameter gradients\n",
    "#         optimizer.zero_grad()\n",
    "#         # forward + backward + optimize\n",
    "#         outputs = simpleview(inputs)\n",
    "#         loss = criterion(outputs, labels)\n",
    "#         loss.backward()\n",
    "#         optimizer.step()\n",
    "#         # print statistics\n",
    "#         running_loss += loss.item()"
   ]
  }
 ],
 "metadata": {
  "kernelspec": {
   "display_name": "Python 3.10.6 ('venv': venv)",
   "language": "python",
   "name": "python3"
  },
  "language_info": {
   "codemirror_mode": {
    "name": "ipython",
    "version": 3
   },
   "file_extension": ".py",
   "mimetype": "text/x-python",
   "name": "python",
   "nbconvert_exporter": "python",
   "pygments_lexer": "ipython3",
   "version": "3.10.6"
  },
  "orig_nbformat": 4,
  "vscode": {
   "interpreter": {
    "hash": "7cf932f233a1eb25445184ced19e34488037ad46dd79dc96bb4513bd804356ea"
   }
  }
 },
 "nbformat": 4,
 "nbformat_minor": 2
}

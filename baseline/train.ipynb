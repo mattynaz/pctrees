{
 "cells": [
  {
   "cell_type": "code",
   "execution_count": 9,
   "metadata": {},
   "outputs": [
    {
     "data": {
      "text/plain": [
       "torch.utils.data.dataset.Subset"
      ]
     },
     "execution_count": 9,
     "metadata": {},
     "output_type": "execute_result"
    }
   ],
   "source": [
    "import torch\n",
    "torch.utils.data.Subset"
   ]
  },
  {
   "cell_type": "code",
   "execution_count": 1,
   "metadata": {},
   "outputs": [
    {
     "name": "stdout",
     "output_type": "stream",
     "text": [
      "Found 16853 trees\n",
      "Found only 705 trees with points in range [{min_points}, {max_points}]\n",
      "<class 'torch.utils.data.dataset.Subset'>\n",
      "<class 'torch.nn.modules.loss.CrossEntropyLoss'>\n",
      "<class 'torch.optim.sgd.SGD'>\n"
     ]
    },
    {
     "ename": "ZeroDivisionError",
     "evalue": "division by zero",
     "output_type": "error",
     "traceback": [
      "\u001b[0;31m---------------------------------------------------------------------------\u001b[0m",
      "\u001b[0;31mZeroDivisionError\u001b[0m                         Traceback (most recent call last)",
      "Cell \u001b[0;32mIn [1], line 43\u001b[0m\n\u001b[1;32m     41\u001b[0m \u001b[39mprint\u001b[39m(\u001b[39mtype\u001b[39m(criterion))\n\u001b[1;32m     42\u001b[0m \u001b[39mprint\u001b[39m(\u001b[39mtype\u001b[39m(optimizer))\n\u001b[0;32m---> 43\u001b[0m \u001b[39m1\u001b[39;49m\u001b[39m/\u001b[39;49m\u001b[39m0\u001b[39;49m\n\u001b[1;32m     44\u001b[0m \u001b[39m# Connect with w&b\u001b[39;00m\n\u001b[1;32m     45\u001b[0m wandb\u001b[39m.\u001b[39minit(\n\u001b[1;32m     46\u001b[0m     project\u001b[39m=\u001b[39m\u001b[39m'\u001b[39m\u001b[39mmy-test-project\u001b[39m\u001b[39m'\u001b[39m,\n\u001b[1;32m     47\u001b[0m     config\u001b[39m=\u001b[39mconfig,\n\u001b[1;32m     48\u001b[0m )\n",
      "\u001b[0;31mZeroDivisionError\u001b[0m: division by zero"
     ]
    }
   ],
   "source": [
    "from dataset import MpalaTreeLiDAR\n",
    "from torch import optim, nn\n",
    "from torchvision import transforms\n",
    "from torch.utils.data import DataLoader, random_split\n",
    "from tqdm import tqdm\n",
    "import wandb\n",
    "\n",
    "import pc_transform\n",
    "from util import load_fake_dataset\n",
    "from models.simpleview import SimpleView\n",
    "\n",
    "# Initialize information about dataset and hyperparameters\n",
    "ids, labels, classes = load_fake_dataset(min_points=500, max_points=600)\n",
    "config = dict(\n",
    "    learning_rate=0.001,\n",
    "    momentum=0.9,\n",
    "    epochs=100,\n",
    "    batch_size=64,\n",
    "    architecture='resnet18_4',\n",
    ")\n",
    "\n",
    "# Initialize dataset and dataloaders\n",
    "dataset = MpalaTreeLiDAR(\n",
    "    data_path='../data/MpalaForestGEO_LasClippedtoTreePolygons',\n",
    "    ids=ids,\n",
    "    labels=labels,\n",
    "    classes=classes,\n",
    "    transform=transforms.Compose([\n",
    "        pc_transform.ToPointCloud(),\n",
    "        pc_transform.ProjectPointCloud(),\n",
    "        pc_transform.ExpandChannels(channels=1),\n",
    "    ]),\n",
    ")\n",
    "trainset, testset = random_split(dataset, [0.85, 0.15])\n",
    "trainloader = DataLoader(trainset, batch_size=config['batch_size'], shuffle=True)\n",
    "print(type(trainset))\n",
    "# Initialize model, criterion, optimizer\n",
    "simpleview = SimpleView(num_views=6, num_classes=len(dataset.classes), architecture=config['architecture'])\n",
    "criterion = nn.CrossEntropyLoss()\n",
    "optimizer = optim.SGD(simpleview.parameters(), lr=config['learning_rate'], momentum=config['momentum'])\n",
    "print(type(criterion))\n",
    "print(type(optimizer))\n",
    "1/0\n",
    "# Connect with w&b\n",
    "wandb.init(\n",
    "    project='my-test-project',\n",
    "    config=config,\n",
    ")\n",
    "wandb.watch(simpleview)\n",
    "\n",
    "# Train\n",
    "for _ in tqdm(range(config['epochs'])):\n",
    "    for x, y in trainloader:\n",
    "        optimizer.zero_grad()\n",
    "        outputs = simpleview(x)\n",
    "        loss = criterion(outputs, y)\n",
    "        loss.backward()\n",
    "        optimizer.step()\n",
    "\n",
    "        wandb.log({\n",
    "            \"train_loss\": loss,\n",
    "            \"test_loss\": test_loss,\n",
    "            \"train_acc\": acc,\n",
    "            \"test_acc\": test_acc,\n",
    "        })\n",
    "\n",
    "        break\n",
    "    break"
   ]
  }
 ],
 "metadata": {
  "kernelspec": {
   "display_name": "Python 3.10.6 ('venv': venv)",
   "language": "python",
   "name": "python3"
  },
  "language_info": {
   "codemirror_mode": {
    "name": "ipython",
    "version": 3
   },
   "file_extension": ".py",
   "mimetype": "text/x-python",
   "name": "python",
   "nbconvert_exporter": "python",
   "pygments_lexer": "ipython3",
   "version": "3.10.8"
  },
  "orig_nbformat": 4,
  "vscode": {
   "interpreter": {
    "hash": "7cf932f233a1eb25445184ced19e34488037ad46dd79dc96bb4513bd804356ea"
   }
  }
 },
 "nbformat": 4,
 "nbformat_minor": 2
}

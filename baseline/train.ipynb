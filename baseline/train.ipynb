{
 "cells": [
  {
   "cell_type": "code",
   "execution_count": 1,
   "metadata": {},
   "outputs": [
    {
     "name": "stdout",
     "output_type": "stream",
     "text": [
      "Found 16853 trees\n",
      "Found only 8033 trees with more than 500 points\n"
     ]
    },
    {
     "name": "stderr",
     "output_type": "stream",
     "text": [
      "  0%|          | 0/100 [00:00<?, ?it/s]"
     ]
    },
    {
     "name": "stdout",
     "output_type": "stream",
     "text": [
      "batch done\n"
     ]
    },
    {
     "name": "stderr",
     "output_type": "stream",
     "text": [
      "  0%|          | 0/100 [01:03<?, ?it/s]\n"
     ]
    }
   ],
   "source": [
    "from model import SimpleView\n",
    "from dataset import MpalaTreeLiDAR\n",
    "from torch.utils.data import DataLoader, random_split\n",
    "from torchvision import transforms\n",
    "from torch import optim, nn\n",
    "from tqdm import tqdm\n",
    "import pc_transform\n",
    "from util import load_fake_dataset\n",
    "\n",
    "ids, labels, classes = load_fake_dataset(min_points=500)\n",
    "\n",
    "dataset = MpalaTreeLiDAR(\n",
    "    data_path='../data/MpalaForestGEO_LasClippedtoTreePolygons',\n",
    "    ids=ids,\n",
    "    labels=labels,\n",
    "    classes=classes,\n",
    "    transform=transforms.Compose([\n",
    "        pc_transform.ToPointCloud(),\n",
    "        pc_transform.ProjectPointCloud(),\n",
    "        pc_transform.ExpandChannels(channels=3),\n",
    "    ]),\n",
    ")\n",
    "trainset, testset = random_split(dataset, [0.85, 0.15])\n",
    "trainloader = DataLoader(trainset, batch_size=64, shuffle=True)\n",
    "\n",
    "simpleview = SimpleView(num_views=6, num_classes=len(dataset.classes))\n",
    "criterion = nn.CrossEntropyLoss()\n",
    "optimizer = optim.SGD(simpleview.parameters(), lr=0.001, momentum=0.9)\n",
    "epochs = 100\n",
    "\n",
    "for _ in tqdm(range(epochs)):\n",
    "    for x, y in trainloader:\n",
    "        print('batch done')\n",
    "        optimizer.zero_grad()\n",
    "        outputs = simpleview(x)\n",
    "        loss = criterion(outputs, y)\n",
    "        loss.backward()\n",
    "        optimizer.step()\n",
    "        break\n",
    "    break"
   ]
  },
  {
   "cell_type": "code",
   "execution_count": null,
   "metadata": {},
   "outputs": [],
   "source": [
    "# import wandb\n",
    "# wandb.init(project='my-test-project')\n",
    "# wandb.config = {\n",
    "#   \"learning_rate\": 0.001,\n",
    "#   \"epochs\": 100,\n",
    "#   \"batch_size\": 128\n",
    "# }\n",
    "# wandb.log({\"loss\": loss})\n",
    "# wandb.watch(simpleview)"
   ]
  }
 ],
 "metadata": {
  "kernelspec": {
   "display_name": "Python 3.10.6 ('venv': venv)",
   "language": "python",
   "name": "python3"
  },
  "language_info": {
   "codemirror_mode": {
    "name": "ipython",
    "version": 3
   },
   "file_extension": ".py",
   "mimetype": "text/x-python",
   "name": "python",
   "nbconvert_exporter": "python",
   "pygments_lexer": "ipython3",
   "version": "3.10.8"
  },
  "orig_nbformat": 4,
  "vscode": {
   "interpreter": {
    "hash": "7cf932f233a1eb25445184ced19e34488037ad46dd79dc96bb4513bd804356ea"
   }
  }
 },
 "nbformat": 4,
 "nbformat_minor": 2
}

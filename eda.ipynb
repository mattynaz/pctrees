{
  "nbformat": 4,
  "nbformat_minor": 0,
  "metadata": {
    "colab": {
      "provenance": [],
      "authorship_tag": "ABX9TyOkY7TP8VcvyFpZsvjTzWb2",
      "include_colab_link": true
    },
    "kernelspec": {
      "name": "python3",
      "display_name": "Python 3"
    },
    "language_info": {
      "name": "python"
    }
  },
  "cells": [
    {
      "cell_type": "markdown",
      "metadata": {
        "id": "view-in-github",
        "colab_type": "text"
      },
      "source": [
        "<a href=\"https://colab.research.google.com/github/nicole-hjlin/mpala-tree-mapping/blob/main/eda.ipynb\" target=\"_parent\"><img src=\"https://colab.research.google.com/assets/colab-badge.svg\" alt=\"Open In Colab\"/></a>"
      ]
    },
    {
      "cell_type": "markdown",
      "source": [
        "# Exploratory Data Analysis\n",
        "Identifying tree species in Mpala with airborne LiDAR images"
      ],
      "metadata": {
        "id": "oS6D2xm-3e0X"
      }
    },
    {
      "cell_type": "code",
      "execution_count": 1,
      "metadata": {
        "colab": {
          "base_uri": "https://localhost:8080/"
        },
        "id": "UlcIg0ta3c29",
        "outputId": "0bb41553-9c6f-436c-98a5-55bdcba749b5"
      },
      "outputs": [
        {
          "output_type": "stream",
          "name": "stdout",
          "text": [
            "Mounted at /content/drive\n"
          ]
        }
      ],
      "source": [
        "# Mount Google Drive (where data sit)\n",
        "from google.colab import drive\n",
        "drive.mount('/content/drive',force_remount=True)"
      ]
    },
    {
      "cell_type": "code",
      "source": [
        "# set project folder\n",
        "import os\n",
        "## this might be different for different users\n",
        "project_path = os.path.join('/content', 'drive', 'My Drive', 'classes', '2022 fall', 'CS 288 AI for Social Impact', 'CS288 Final Project - Tree Species')"
      ],
      "metadata": {
        "id": "s5WSojQf4VQs"
      },
      "execution_count": 6,
      "outputs": []
    },
    {
      "cell_type": "code",
      "source": [
        "# Import code utilities files\n",
        "import sys\n",
        "sys.path.insert(0, os.path.join(project_path, 'mpala-tree-mapping'))"
      ],
      "metadata": {
        "id": "NhorAXsK416C"
      },
      "execution_count": 4,
      "outputs": []
    },
    {
      "cell_type": "code",
      "source": [
        "# import packages\n",
        "import pandas as pd\n",
        "import numpy as np\n",
        "import matplotlib.pyplot as plt\n",
        "from osgeo import gdal"
      ],
      "metadata": {
        "id": "4P_uN3n26fmS"
      },
      "execution_count": 59,
      "outputs": []
    },
    {
      "cell_type": "markdown",
      "source": [
        "## ForestGEO tree labels"
      ],
      "metadata": {
        "id": "TJecdFCV6m4l"
      }
    },
    {
      "cell_type": "code",
      "source": [
        "# read data\n",
        "forestgeo = pd.read_csv(os.path.join(project_path, 'PlotDataReport10-07-2022_1734418034.txt'), delimiter = \"\\t\")\n",
        "forestgeo.head()"
      ],
      "metadata": {
        "colab": {
          "base_uri": "https://localhost:8080/",
          "height": 262
        },
        "id": "rsoBPNo26q9U",
        "outputId": "d3bd989c-aa12-4027-e166-018850a702f7"
      },
      "execution_count": 42,
      "outputs": [
        {
          "output_type": "stream",
          "name": "stderr",
          "text": [
            "/usr/local/lib/python3.7/dist-packages/IPython/core/interactiveshell.py:3326: DtypeWarning: Columns (10) have mixed types.Specify dtype option on import or set low_memory=False.\n",
            "  exec(code_obj, self.user_global_ns, self.user_ns)\n"
          ]
        },
        {
          "output_type": "execute_result",
          "data": {
            "text/plain": [
              "   No.              Latin Mnemonic  SubSpecies  Quadrat          PX  \\\n",
              "0    1  Acacia brevispica   ACACBR         NaN      221    36.30040   \n",
              "1    2  Acacia brevispica   ACACBR         NaN      311    51.84520   \n",
              "2    3  Acacia brevispica   ACACBR         NaN      503    81.23257   \n",
              "3    4  Acacia brevispica   ACACBR         NaN    10001  1982.57861   \n",
              "4    5  Acacia brevispica   ACACBR         NaN    10001  1982.57861   \n",
              "\n",
              "          PY  TreeID      Tag  StemID  StemTag  Census   DBH  HOM        Date  \\\n",
              "0  400.50461  124386    20847  254971   020847       1  77.0  0.5  2012-11-20   \n",
              "1  206.57974  124814    30407  255478   030407       1  37.0  0.5  2012-11-17   \n",
              "2   58.41180  126361    50086  257294   050086       1  50.0  0.5  2012-11-23   \n",
              "3    9.46110  131025  1000015  262757  1000015       1  23.0  0.5  2014-11-15   \n",
              "4    9.46110  131025  1000015  262758  1000016       1  23.0  0.5  2014-11-15   \n",
              "\n",
              "  Codes  Stem Status  \n",
              "0   NaN  main  alive  \n",
              "1   NaN  main  alive  \n",
              "2   NaN  main  alive  \n",
              "3     M  main  alive  \n",
              "4   NaN   NaN  alive  "
            ],
            "text/html": [
              "\n",
              "  <div id=\"df-efccda35-d260-487d-b244-c1c513646fcd\">\n",
              "    <div class=\"colab-df-container\">\n",
              "      <div>\n",
              "<style scoped>\n",
              "    .dataframe tbody tr th:only-of-type {\n",
              "        vertical-align: middle;\n",
              "    }\n",
              "\n",
              "    .dataframe tbody tr th {\n",
              "        vertical-align: top;\n",
              "    }\n",
              "\n",
              "    .dataframe thead th {\n",
              "        text-align: right;\n",
              "    }\n",
              "</style>\n",
              "<table border=\"1\" class=\"dataframe\">\n",
              "  <thead>\n",
              "    <tr style=\"text-align: right;\">\n",
              "      <th></th>\n",
              "      <th>No.</th>\n",
              "      <th>Latin</th>\n",
              "      <th>Mnemonic</th>\n",
              "      <th>SubSpecies</th>\n",
              "      <th>Quadrat</th>\n",
              "      <th>PX</th>\n",
              "      <th>PY</th>\n",
              "      <th>TreeID</th>\n",
              "      <th>Tag</th>\n",
              "      <th>StemID</th>\n",
              "      <th>StemTag</th>\n",
              "      <th>Census</th>\n",
              "      <th>DBH</th>\n",
              "      <th>HOM</th>\n",
              "      <th>Date</th>\n",
              "      <th>Codes</th>\n",
              "      <th>Stem</th>\n",
              "      <th>Status</th>\n",
              "    </tr>\n",
              "  </thead>\n",
              "  <tbody>\n",
              "    <tr>\n",
              "      <th>0</th>\n",
              "      <td>1</td>\n",
              "      <td>Acacia brevispica</td>\n",
              "      <td>ACACBR</td>\n",
              "      <td>NaN</td>\n",
              "      <td>221</td>\n",
              "      <td>36.30040</td>\n",
              "      <td>400.50461</td>\n",
              "      <td>124386</td>\n",
              "      <td>20847</td>\n",
              "      <td>254971</td>\n",
              "      <td>020847</td>\n",
              "      <td>1</td>\n",
              "      <td>77.0</td>\n",
              "      <td>0.5</td>\n",
              "      <td>2012-11-20</td>\n",
              "      <td>NaN</td>\n",
              "      <td>main</td>\n",
              "      <td>alive</td>\n",
              "    </tr>\n",
              "    <tr>\n",
              "      <th>1</th>\n",
              "      <td>2</td>\n",
              "      <td>Acacia brevispica</td>\n",
              "      <td>ACACBR</td>\n",
              "      <td>NaN</td>\n",
              "      <td>311</td>\n",
              "      <td>51.84520</td>\n",
              "      <td>206.57974</td>\n",
              "      <td>124814</td>\n",
              "      <td>30407</td>\n",
              "      <td>255478</td>\n",
              "      <td>030407</td>\n",
              "      <td>1</td>\n",
              "      <td>37.0</td>\n",
              "      <td>0.5</td>\n",
              "      <td>2012-11-17</td>\n",
              "      <td>NaN</td>\n",
              "      <td>main</td>\n",
              "      <td>alive</td>\n",
              "    </tr>\n",
              "    <tr>\n",
              "      <th>2</th>\n",
              "      <td>3</td>\n",
              "      <td>Acacia brevispica</td>\n",
              "      <td>ACACBR</td>\n",
              "      <td>NaN</td>\n",
              "      <td>503</td>\n",
              "      <td>81.23257</td>\n",
              "      <td>58.41180</td>\n",
              "      <td>126361</td>\n",
              "      <td>50086</td>\n",
              "      <td>257294</td>\n",
              "      <td>050086</td>\n",
              "      <td>1</td>\n",
              "      <td>50.0</td>\n",
              "      <td>0.5</td>\n",
              "      <td>2012-11-23</td>\n",
              "      <td>NaN</td>\n",
              "      <td>main</td>\n",
              "      <td>alive</td>\n",
              "    </tr>\n",
              "    <tr>\n",
              "      <th>3</th>\n",
              "      <td>4</td>\n",
              "      <td>Acacia brevispica</td>\n",
              "      <td>ACACBR</td>\n",
              "      <td>NaN</td>\n",
              "      <td>10001</td>\n",
              "      <td>1982.57861</td>\n",
              "      <td>9.46110</td>\n",
              "      <td>131025</td>\n",
              "      <td>1000015</td>\n",
              "      <td>262757</td>\n",
              "      <td>1000015</td>\n",
              "      <td>1</td>\n",
              "      <td>23.0</td>\n",
              "      <td>0.5</td>\n",
              "      <td>2014-11-15</td>\n",
              "      <td>M</td>\n",
              "      <td>main</td>\n",
              "      <td>alive</td>\n",
              "    </tr>\n",
              "    <tr>\n",
              "      <th>4</th>\n",
              "      <td>5</td>\n",
              "      <td>Acacia brevispica</td>\n",
              "      <td>ACACBR</td>\n",
              "      <td>NaN</td>\n",
              "      <td>10001</td>\n",
              "      <td>1982.57861</td>\n",
              "      <td>9.46110</td>\n",
              "      <td>131025</td>\n",
              "      <td>1000015</td>\n",
              "      <td>262758</td>\n",
              "      <td>1000016</td>\n",
              "      <td>1</td>\n",
              "      <td>23.0</td>\n",
              "      <td>0.5</td>\n",
              "      <td>2014-11-15</td>\n",
              "      <td>NaN</td>\n",
              "      <td>NaN</td>\n",
              "      <td>alive</td>\n",
              "    </tr>\n",
              "  </tbody>\n",
              "</table>\n",
              "</div>\n",
              "      <button class=\"colab-df-convert\" onclick=\"convertToInteractive('df-efccda35-d260-487d-b244-c1c513646fcd')\"\n",
              "              title=\"Convert this dataframe to an interactive table.\"\n",
              "              style=\"display:none;\">\n",
              "        \n",
              "  <svg xmlns=\"http://www.w3.org/2000/svg\" height=\"24px\"viewBox=\"0 0 24 24\"\n",
              "       width=\"24px\">\n",
              "    <path d=\"M0 0h24v24H0V0z\" fill=\"none\"/>\n",
              "    <path d=\"M18.56 5.44l.94 2.06.94-2.06 2.06-.94-2.06-.94-.94-2.06-.94 2.06-2.06.94zm-11 1L8.5 8.5l.94-2.06 2.06-.94-2.06-.94L8.5 2.5l-.94 2.06-2.06.94zm10 10l.94 2.06.94-2.06 2.06-.94-2.06-.94-.94-2.06-.94 2.06-2.06.94z\"/><path d=\"M17.41 7.96l-1.37-1.37c-.4-.4-.92-.59-1.43-.59-.52 0-1.04.2-1.43.59L10.3 9.45l-7.72 7.72c-.78.78-.78 2.05 0 2.83L4 21.41c.39.39.9.59 1.41.59.51 0 1.02-.2 1.41-.59l7.78-7.78 2.81-2.81c.8-.78.8-2.07 0-2.86zM5.41 20L4 18.59l7.72-7.72 1.47 1.35L5.41 20z\"/>\n",
              "  </svg>\n",
              "      </button>\n",
              "      \n",
              "  <style>\n",
              "    .colab-df-container {\n",
              "      display:flex;\n",
              "      flex-wrap:wrap;\n",
              "      gap: 12px;\n",
              "    }\n",
              "\n",
              "    .colab-df-convert {\n",
              "      background-color: #E8F0FE;\n",
              "      border: none;\n",
              "      border-radius: 50%;\n",
              "      cursor: pointer;\n",
              "      display: none;\n",
              "      fill: #1967D2;\n",
              "      height: 32px;\n",
              "      padding: 0 0 0 0;\n",
              "      width: 32px;\n",
              "    }\n",
              "\n",
              "    .colab-df-convert:hover {\n",
              "      background-color: #E2EBFA;\n",
              "      box-shadow: 0px 1px 2px rgba(60, 64, 67, 0.3), 0px 1px 3px 1px rgba(60, 64, 67, 0.15);\n",
              "      fill: #174EA6;\n",
              "    }\n",
              "\n",
              "    [theme=dark] .colab-df-convert {\n",
              "      background-color: #3B4455;\n",
              "      fill: #D2E3FC;\n",
              "    }\n",
              "\n",
              "    [theme=dark] .colab-df-convert:hover {\n",
              "      background-color: #434B5C;\n",
              "      box-shadow: 0px 1px 3px 1px rgba(0, 0, 0, 0.15);\n",
              "      filter: drop-shadow(0px 1px 2px rgba(0, 0, 0, 0.3));\n",
              "      fill: #FFFFFF;\n",
              "    }\n",
              "  </style>\n",
              "\n",
              "      <script>\n",
              "        const buttonEl =\n",
              "          document.querySelector('#df-efccda35-d260-487d-b244-c1c513646fcd button.colab-df-convert');\n",
              "        buttonEl.style.display =\n",
              "          google.colab.kernel.accessAllowed ? 'block' : 'none';\n",
              "\n",
              "        async function convertToInteractive(key) {\n",
              "          const element = document.querySelector('#df-efccda35-d260-487d-b244-c1c513646fcd');\n",
              "          const dataTable =\n",
              "            await google.colab.kernel.invokeFunction('convertToInteractive',\n",
              "                                                     [key], {});\n",
              "          if (!dataTable) return;\n",
              "\n",
              "          const docLinkHtml = 'Like what you see? Visit the ' +\n",
              "            '<a target=\"_blank\" href=https://colab.research.google.com/notebooks/data_table.ipynb>data table notebook</a>'\n",
              "            + ' to learn more about interactive tables.';\n",
              "          element.innerHTML = '';\n",
              "          dataTable['output_type'] = 'display_data';\n",
              "          await google.colab.output.renderOutput(dataTable, element);\n",
              "          const docLink = document.createElement('div');\n",
              "          docLink.innerHTML = docLinkHtml;\n",
              "          element.appendChild(docLink);\n",
              "        }\n",
              "      </script>\n",
              "    </div>\n",
              "  </div>\n",
              "  "
            ]
          },
          "metadata": {},
          "execution_count": 42
        }
      ]
    },
    {
      "cell_type": "code",
      "source": [
        "# summary stats\n",
        "print('-- data collection period: ', min(forestgeo['Date']), '-', max(forestgeo['Date']))\n",
        "print('-- total data points: ', len(forestgeo))\n",
        "print('-- total trees: ', len(forestgeo[forestgeo['Stem'] == 'main']))\n",
        "print('-- total # of species: ', len(np.unique(forestgeo['Latin'])))\n",
        "print('-- distribution of tree species: \\n', forestgeo['Latin'].value_counts())"
      ],
      "metadata": {
        "colab": {
          "base_uri": "https://localhost:8080/"
        },
        "id": "I-25jQl09h0S",
        "outputId": "a67096ca-3386-4d60-d168-43067edfebb4"
      },
      "execution_count": 56,
      "outputs": [
        {
          "output_type": "stream",
          "name": "stdout",
          "text": [
            "-- data collection period:  2010-02-09 - 2015-04-21\n",
            "-- total data points:  364068\n",
            "-- total trees:  136752\n",
            "-- total # of species:  67\n",
            "-- distribution of tree species: \n",
            " Croton dichogamous         74880\n",
            "Acacia brevispica          70835\n",
            "Euclea divinorum           66000\n",
            "Acacia drepanolobium       32459\n",
            "Acacia mellifera           32061\n",
            "                           ...  \n",
            "Ormocarpum trachycarpum        2\n",
            "Acacia senegal                 2\n",
            "Dodonaea angistifolia          1\n",
            "Psychotria sp.                 1\n",
            "Acacia tortilis                1\n",
            "Name: Latin, Length: 67, dtype: int64\n"
          ]
        }
      ]
    },
    {
      "cell_type": "markdown",
      "source": [
        "## Airborne LiDAR Images from Davies Lab"
      ],
      "metadata": {
        "id": "5l-_PCoh-j3s"
      }
    },
    {
      "cell_type": "code",
      "source": [
        "# data path\n",
        "lidar_path = os.path.join(project_path, 'MpalaForestGEOPlotData', 'data')"
      ],
      "metadata": {
        "id": "kWUlUMvn-ofi"
      },
      "execution_count": 60,
      "outputs": []
    },
    {
      "cell_type": "code",
      "source": [
        "# count the number of images in each folder\n",
        "print(os.listdir(lidar_path))\n",
        "print(os.listdir(os.path.join(lidar_path, 'HighResAcquisitions')))\n",
        "print('number of images in MpalaForestGEO_CHM_tiledforsegmentation: ', len(os.listdir(os.path.join(lidar_path, 'HighResAcquisitions', 'MpalaForestGEO_CHM_tiledforsegmentation'))))\n",
        "print('number of images in MpalaForestGEO_LasClippedtoTreePolygons: ', len(os.listdir(os.path.join(lidar_path, 'HighResAcquisitions', 'MpalaForestGEO_LasClippedtoTreePolygons'))))\n"
      ],
      "metadata": {
        "colab": {
          "base_uri": "https://localhost:8080/"
        },
        "id": "mv8XUS1Q_fd_",
        "outputId": "e513203f-a1a0-4874-b638-bd986f026eb7"
      },
      "execution_count": 70,
      "outputs": [
        {
          "output_type": "stream",
          "name": "stdout",
          "text": [
            "['LowResAcquisitions', 'HighResAcquisitions']\n",
            "['MpalaForestGeo_DTM_010m.tif', 'MpalaForestGeo_CHM_010m.tif', 'MpalaForestGEO_CHM_tiledforsegmentation', 'MpalaForestGEO_LasClippedtoTreePolygons', 'MpalaForestGEO_LasTileswithHeight', 'MpalaForestGEO_Shapefile050mCanopySegmentation']\n",
            "number of images in MpalaForestGEO_CHM_tiledforsegmentation:  41\n",
            "number of images in MpalaForestGEO_LasClippedtoTreePolygons:  43709\n"
          ]
        }
      ]
    },
    {
      "cell_type": "code",
      "source": [
        "# display sample images\n"
      ],
      "metadata": {
        "id": "oaD3WHIl_jIm"
      },
      "execution_count": null,
      "outputs": []
    }
  ]
}